{
  "nbformat": 4,
  "nbformat_minor": 0,
  "metadata": {
    "colab": {
      "provenance": [],
      "toc_visible": true,
      "authorship_tag": "ABX9TyM4HKi0YrrGm7Ww3SILqyCU",
      "include_colab_link": true
    },
    "kernelspec": {
      "name": "python3",
      "display_name": "Python 3"
    },
    "language_info": {
      "name": "python"
    }
  },
  "cells": [
    {
      "cell_type": "markdown",
      "metadata": {
        "id": "view-in-github",
        "colab_type": "text"
      },
      "source": [
        "<a href=\"https://colab.research.google.com/github/stevenkhwun/my-repo/blob/main/MiscPythonCode.ipynb\" target=\"_parent\"><img src=\"https://colab.research.google.com/assets/colab-badge.svg\" alt=\"Open In Colab\"/></a>"
      ]
    },
    {
      "cell_type": "code",
      "execution_count": 5,
      "metadata": {
        "colab": {
          "base_uri": "https://localhost:8080/"
        },
        "id": "x_B7utYRNAru",
        "outputId": "518cf045-126e-4fa0-ecdc-2a8b6c1675b5"
      },
      "outputs": [
        {
          "output_type": "execute_result",
          "data": {
            "text/plain": [
              "(1, 2, 3, 4, 5)"
            ]
          },
          "metadata": {},
          "execution_count": 5
        }
      ],
      "source": [
        "a = 1, 2, 3, 4, 5\n",
        "a"
      ]
    },
    {
      "cell_type": "code",
      "source": [
        "type(a)"
      ],
      "metadata": {
        "colab": {
          "base_uri": "https://localhost:8080/"
        },
        "id": "uOXyqf5hNeut",
        "outputId": "bc37be39-5280-42c5-f227-7cf84f7cf5e1"
      },
      "execution_count": 6,
      "outputs": [
        {
          "output_type": "execute_result",
          "data": {
            "text/plain": [
              "tuple"
            ]
          },
          "metadata": {},
          "execution_count": 6
        }
      ]
    },
    {
      "cell_type": "code",
      "source": [
        "# Reverse the sequence of a tuple\n",
        "a[::-1]"
      ],
      "metadata": {
        "colab": {
          "base_uri": "https://localhost:8080/"
        },
        "id": "2XBb4xOCNRyF",
        "outputId": "8938ea1b-695c-4157-e3bf-3098d18c090e"
      },
      "execution_count": 7,
      "outputs": [
        {
          "output_type": "execute_result",
          "data": {
            "text/plain": [
              "(5, 4, 3, 2, 1)"
            ]
          },
          "metadata": {},
          "execution_count": 7
        }
      ]
    },
    {
      "cell_type": "code",
      "source": [
        "a"
      ],
      "metadata": {
        "colab": {
          "base_uri": "https://localhost:8080/"
        },
        "id": "-1yMLxi8NkDf",
        "outputId": "832adf61-8762-4657-a60e-c210c00684d6"
      },
      "execution_count": 8,
      "outputs": [
        {
          "output_type": "execute_result",
          "data": {
            "text/plain": [
              "(1, 2, 3, 4, 5)"
            ]
          },
          "metadata": {},
          "execution_count": 8
        }
      ]
    },
    {
      "cell_type": "markdown",
      "source": [
        "In Python programming, a string can be enclosed inside single quotes, double quotes, or triple quotes."
      ],
      "metadata": {
        "id": "MdWBwuaDTrD0"
      }
    },
    {
      "cell_type": "code",
      "source": [
        "# In Python programming, a string can be enclosed inside single quotes, double quotes, or triple quotes.\n",
        "print('Hello, Python!')\n",
        "print(\"Hello, Python!\")\n",
        "print('''Hello, Python!''')\n",
        "print('\"Hello, Python!\"')\n",
        "print(\"'Hello, Python!'\")"
      ],
      "metadata": {
        "colab": {
          "base_uri": "https://localhost:8080/"
        },
        "id": "H3iMRoV3Rup0",
        "outputId": "5491fe5f-1483-4cae-d17c-91f06b90b4f1"
      },
      "execution_count": 10,
      "outputs": [
        {
          "output_type": "stream",
          "name": "stdout",
          "text": [
            "Hello, Python!\n",
            "Hello, Python!\n",
            "Hello, Python!\n",
            "\"Hello, Python!\"\n",
            "'Hello, Python!'\n"
          ]
        }
      ]
    },
    {
      "cell_type": "code",
      "source": [
        "# Python input() function always converts the user input into a string.\n",
        "num1 = input('Enter first number: ')\n",
        "num2 = input('Enter second number: ')\n",
        "sum = num1 + num2\n",
        "print('The sum of the numbers is', sum)"
      ],
      "metadata": {
        "colab": {
          "base_uri": "https://localhost:8080/"
        },
        "id": "UIZsJaPZU_mQ",
        "outputId": "1afde348-2865-470c-88b4-5bf7c1484071"
      },
      "execution_count": 11,
      "outputs": [
        {
          "output_type": "stream",
          "name": "stdout",
          "text": [
            "Enter first number: 67\n",
            "Enter second number: 689\n",
            "The sum of the numbers is 67689\n"
          ]
        }
      ]
    },
    {
      "cell_type": "code",
      "source": [
        "# Convert it into number using int() or float()\n",
        "sum1 = int(num1) + int(num2)\n",
        "sum2 = float(num1) + float(num2)\n",
        "print('The sum of the number is', sum1)\n",
        "print('The sum of the number is', sum2)"
      ],
      "metadata": {
        "colab": {
          "base_uri": "https://localhost:8080/"
        },
        "id": "pDNU8c24VgoO",
        "outputId": "d595cecb-e2a8-4633-8847-135769c7fe9a"
      },
      "execution_count": 12,
      "outputs": [
        {
          "output_type": "stream",
          "name": "stdout",
          "text": [
            "The sum of the number is 756\n",
            "The sum of the number is 756.0\n"
          ]
        }
      ]
    },
    {
      "cell_type": "code",
      "source": [
        "# Or using eval() function\n",
        "num3 = eval(input('Enter first number: '))\n",
        "num4 = eval(input('Enter second number: '))\n",
        "sum3 = num3 + num4\n",
        "print('The sum of the numbers is', sum3)"
      ],
      "metadata": {
        "colab": {
          "base_uri": "https://localhost:8080/"
        },
        "id": "9gkWewrzWAfu",
        "outputId": "3f9b4387-bda0-4d92-8932-fad306aa45e4"
      },
      "execution_count": 13,
      "outputs": [
        {
          "output_type": "stream",
          "name": "stdout",
          "text": [
            "Enter first number: 67\n",
            "Enter second number: 689\n",
            "The sum of the numbers is 756\n"
          ]
        }
      ]
    }
  ]
}