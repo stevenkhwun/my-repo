{
  "nbformat": 4,
  "nbformat_minor": 0,
  "metadata": {
    "colab": {
      "provenance": [],
      "toc_visible": true,
      "authorship_tag": "ABX9TyNvNszSnviMycwh9gsbcbhP",
      "include_colab_link": true
    },
    "kernelspec": {
      "name": "python3",
      "display_name": "Python 3"
    },
    "language_info": {
      "name": "python"
    }
  },
  "cells": [
    {
      "cell_type": "markdown",
      "metadata": {
        "id": "view-in-github",
        "colab_type": "text"
      },
      "source": [
        "<a href=\"https://colab.research.google.com/github/stevenkhwun/my-repo/blob/main/MiscPythonCode.ipynb\" target=\"_parent\"><img src=\"https://colab.research.google.com/assets/colab-badge.svg\" alt=\"Open In Colab\"/></a>"
      ]
    },
    {
      "cell_type": "markdown",
      "source": [
        "In Python programming, a string can be enclosed inside single quotes, double quotes, or triple quotes."
      ],
      "metadata": {
        "id": "MdWBwuaDTrD0"
      }
    },
    {
      "cell_type": "code",
      "source": [
        "# In Python programming, a string can be enclosed inside single quotes, double quotes, or triple quotes.\n",
        "print('Hello, Python!')\n",
        "print(\"Hello, Python!\")\n",
        "print('''Hello, Python!''')\n",
        "print('\"Hello, Python!\"')\n",
        "print(\"'Hello, Python!'\")"
      ],
      "metadata": {
        "colab": {
          "base_uri": "https://localhost:8080/"
        },
        "id": "H3iMRoV3Rup0",
        "outputId": "5491fe5f-1483-4cae-d17c-91f06b90b4f1"
      },
      "execution_count": 10,
      "outputs": [
        {
          "output_type": "stream",
          "name": "stdout",
          "text": [
            "Hello, Python!\n",
            "Hello, Python!\n",
            "Hello, Python!\n",
            "\"Hello, Python!\"\n",
            "'Hello, Python!'\n"
          ]
        }
      ]
    },
    {
      "cell_type": "code",
      "source": [
        "# Python input() function always converts the user input into a string.\n",
        "num1 = input('Enter first number: ')\n",
        "num2 = input('Enter second number: ')\n",
        "sum = num1 + num2\n",
        "print('The sum of the numbers is', sum)"
      ],
      "metadata": {
        "colab": {
          "base_uri": "https://localhost:8080/"
        },
        "id": "UIZsJaPZU_mQ",
        "outputId": "1afde348-2865-470c-88b4-5bf7c1484071"
      },
      "execution_count": 11,
      "outputs": [
        {
          "output_type": "stream",
          "name": "stdout",
          "text": [
            "Enter first number: 67\n",
            "Enter second number: 689\n",
            "The sum of the numbers is 67689\n"
          ]
        }
      ]
    },
    {
      "cell_type": "code",
      "source": [
        "# Convert it into number using int() or float()\n",
        "sum1 = int(num1) + int(num2)\n",
        "sum2 = float(num1) + float(num2)\n",
        "print('The sum of the number is', sum1)\n",
        "print('The sum of the number is', sum2)"
      ],
      "metadata": {
        "colab": {
          "base_uri": "https://localhost:8080/"
        },
        "id": "pDNU8c24VgoO",
        "outputId": "d595cecb-e2a8-4633-8847-135769c7fe9a"
      },
      "execution_count": 12,
      "outputs": [
        {
          "output_type": "stream",
          "name": "stdout",
          "text": [
            "The sum of the number is 756\n",
            "The sum of the number is 756.0\n"
          ]
        }
      ]
    },
    {
      "cell_type": "code",
      "source": [
        "# Or using eval() function\n",
        "num3 = eval(input('Enter first number: '))\n",
        "num4 = eval(input('Enter second number: '))\n",
        "sum3 = num3 + num4\n",
        "print('The sum of the numbers is', sum3)"
      ],
      "metadata": {
        "colab": {
          "base_uri": "https://localhost:8080/"
        },
        "id": "9gkWewrzWAfu",
        "outputId": "3f9b4387-bda0-4d92-8932-fad306aa45e4"
      },
      "execution_count": 13,
      "outputs": [
        {
          "output_type": "stream",
          "name": "stdout",
          "text": [
            "Enter first number: 67\n",
            "Enter second number: 689\n",
            "The sum of the numbers is 756\n"
          ]
        }
      ]
    },
    {
      "cell_type": "code",
      "source": [
        "# Check if a number is odd or even\n",
        "num1 = input(\"Enter a number:\")\n",
        "if (int(num1) % 2) == 0:\n",
        "  print(\"{0} is an Even number\".format(num1))\n",
        "else:\n",
        "  print(\"{0} is an Odd number\".format(num1))"
      ],
      "metadata": {
        "colab": {
          "base_uri": "https://localhost:8080/"
        },
        "id": "dvtNIWZoaF2O",
        "outputId": "8c3ed935-08fa-4b7b-cb45-5b43f900f6da"
      },
      "execution_count": 17,
      "outputs": [
        {
          "output_type": "stream",
          "name": "stdout",
          "text": [
            "Enter a number:6\n",
            "6 is Even number\n"
          ]
        }
      ]
    },
    {
      "cell_type": "code",
      "source": [
        "# Function to check prime number\n",
        "def PrimeChecking(num):\n",
        "  # Condition to check given number is more than 1\n",
        "  if num > 1:\n",
        "    # For loop to iterate over the given number\n",
        "    for i in range(2, int(num/2)+1):\n",
        "      if (num % i) == 0:\n",
        "        print(\"The number\", num, \"is not a prime number.\")\n",
        "        break\n",
        "    # Else print it as a prime number\n",
        "    else:\n",
        "      print(\"The number\", num, \"is a prime number.\")\n",
        "  # If the given number is 1\n",
        "  else:\n",
        "    print(\"The number\", num, \"is not a prime number.\")\n",
        "    print(\"A prime number (or a prime) is a natural number greater than 1 that is not a product of two smaller natural numbers.\")\n",
        "\n",
        "PrimeChecking(689)"
      ],
      "metadata": {
        "colab": {
          "base_uri": "https://localhost:8080/"
        },
        "id": "XcUqd-T7dikt",
        "outputId": "f6b5d57c-4917-487c-cacc-3e88232d3995"
      },
      "execution_count": 23,
      "outputs": [
        {
          "output_type": "stream",
          "name": "stdout",
          "text": [
            "The number 689 is not a prime number.\n"
          ]
        }
      ]
    },
    {
      "cell_type": "code",
      "source": [
        "# Function to check Armstrong's number\n",
        "def ArmstrongChecking(num):\n",
        "  print(\"An Armstrong's number is an n-digit number equal to the sum of the nth power of its digits.\")\n",
        "  p = len(str(num))\n",
        "  sum = 0\n",
        "  for i in range(0,p):\n",
        "    sum = sum + (int(str(num)[i]))**p\n",
        "  if sum == num:\n",
        "    print(\"The given number\", num, \"is an armstrong number.\")\n",
        "  else:\n",
        "    print(\"The given number\", num, \"is not an armstrong number.\")\n",
        "  \n",
        "ArmstrongChecking(9474)"
      ],
      "metadata": {
        "colab": {
          "base_uri": "https://localhost:8080/"
        },
        "id": "s75RSLX9smvH",
        "outputId": "3175b81b-6eb1-4313-e8d8-53bf4274c8c6"
      },
      "execution_count": 62,
      "outputs": [
        {
          "output_type": "stream",
          "name": "stdout",
          "text": [
            "An Armstrong's number is an n-digit number equal to the sum of the nth power of its digits.\n",
            "The given number 9474 is an armstrong number.\n"
          ]
        }
      ]
    },
    {
      "cell_type": "code",
      "source": [
        "def ArmstrongChecking2(num):\n",
        "  length = len(str(num))\n",
        "  sum = 0\n",
        "  arms = num\n",
        "  while num != 0:\n",
        "    rem = num % 10\n",
        "    sum = sum + (rem ** length)\n",
        "    num = num // 10\n",
        "  if arms == sum:\n",
        "    print(\"The given number\", num, \"is an armstrong number.\")\n",
        "  else:\n",
        "    print(\"The given number\", num, \"is not an armstrong number.\")\n",
        "\n",
        "  ArmstrongChecking2(9474)"
      ],
      "metadata": {
        "id": "6KL3nF_3z2zk"
      },
      "execution_count": 67,
      "outputs": []
    }
  ]
}