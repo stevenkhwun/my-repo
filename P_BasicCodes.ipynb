{
  "nbformat": 4,
  "nbformat_minor": 0,
  "metadata": {
    "colab": {
      "provenance": [],
      "toc_visible": true,
      "authorship_tag": "ABX9TyNH9PIkxAx+HSxy7GJkIrbw",
      "include_colab_link": true
    },
    "kernelspec": {
      "name": "python3",
      "display_name": "Python 3"
    },
    "language_info": {
      "name": "python"
    }
  },
  "cells": [
    {
      "cell_type": "markdown",
      "metadata": {
        "id": "view-in-github",
        "colab_type": "text"
      },
      "source": [
        "<a href=\"https://colab.research.google.com/github/stevenkhwun/my-repo/blob/main/P_BasicCodes.ipynb\" target=\"_parent\"><img src=\"https://colab.research.google.com/assets/colab-badge.svg\" alt=\"Open In Colab\"/></a>"
      ]
    },
    {
      "cell_type": "markdown",
      "source": [
        "# Basics\n",
        "\n",
        "## Quotes"
      ],
      "metadata": {
        "id": "jh3kcG9LBJGb"
      }
    },
    {
      "cell_type": "code",
      "execution_count": 1,
      "metadata": {
        "colab": {
          "base_uri": "https://localhost:8080/"
        },
        "id": "q8V14tkLA_cP",
        "outputId": "a3919242-6aa4-44aa-bda4-8c58dd59929a"
      },
      "outputs": [
        {
          "output_type": "stream",
          "name": "stdout",
          "text": [
            "2+2\n",
            "4\n"
          ]
        }
      ],
      "source": [
        "print(\"2+2\")\n",
        "print(2+2)"
      ]
    },
    {
      "cell_type": "markdown",
      "source": [
        "## Getting input"
      ],
      "metadata": {
        "id": "i2cGeJ52BhdZ"
      }
    },
    {
      "cell_type": "code",
      "source": [
        "name = input(\"Enter your name: \")\n",
        "name"
      ],
      "metadata": {
        "colab": {
          "base_uri": "https://localhost:8080/",
          "height": 53
        },
        "id": "UfBhEX8JBl5N",
        "outputId": "8f42fe3d-e453-467a-9678-68709646b37b"
      },
      "execution_count": 3,
      "outputs": [
        {
          "name": "stdout",
          "output_type": "stream",
          "text": [
            "Enter your name: Steven\n"
          ]
        },
        {
          "output_type": "execute_result",
          "data": {
            "text/plain": [
              "'Steven'"
            ],
            "application/vnd.google.colaboratory.intrinsic+json": {
              "type": "string"
            }
          },
          "metadata": {},
          "execution_count": 3
        }
      ]
    },
    {
      "cell_type": "code",
      "source": [
        "num = eval(input(\"Enter a number: \"))\n",
        "num"
      ],
      "metadata": {
        "colab": {
          "base_uri": "https://localhost:8080/"
        },
        "id": "AfQX0eC6Byss",
        "outputId": "ccc7a842-4d35-40cf-be7a-dfe32da253d4"
      },
      "execution_count": 6,
      "outputs": [
        {
          "name": "stdout",
          "output_type": "stream",
          "text": [
            "Enter a number: 890.88\n"
          ]
        },
        {
          "output_type": "execute_result",
          "data": {
            "text/plain": [
              "890.88"
            ]
          },
          "metadata": {},
          "execution_count": 6
        }
      ]
    },
    {
      "cell_type": "code",
      "source": [
        "type(num)"
      ],
      "metadata": {
        "colab": {
          "base_uri": "https://localhost:8080/"
        },
        "id": "owhWRF33CDS5",
        "outputId": "a10050db-ad89-4d60-e624-c146ec26f146"
      },
      "execution_count": 7,
      "outputs": [
        {
          "output_type": "execute_result",
          "data": {
            "text/plain": [
              "float"
            ]
          },
          "metadata": {},
          "execution_count": 7
        }
      ]
    },
    {
      "cell_type": "markdown",
      "source": [
        "## Optional arguments to the print function\n",
        "\n",
        "**`sep`** - use to change or get rid of spaces that print inserts"
      ],
      "metadata": {
        "id": "yCxp6OJoCdE0"
      }
    },
    {
      "cell_type": "code",
      "source": [
        "print(1,2,3,4,5, sep='')\n"
      ],
      "metadata": {
        "colab": {
          "base_uri": "https://localhost:8080/"
        },
        "id": "KspFSSAiCg5X",
        "outputId": "5b02a5d5-468e-45da-9673-88e7145c11ed"
      },
      "execution_count": 8,
      "outputs": [
        {
          "output_type": "stream",
          "name": "stdout",
          "text": [
            "12345\n"
          ]
        }
      ]
    },
    {
      "cell_type": "code",
      "source": [
        "print(1,2,3,4,5, sep='/')"
      ],
      "metadata": {
        "colab": {
          "base_uri": "https://localhost:8080/"
        },
        "id": "pnyRigmiC61k",
        "outputId": "26074bcf-5355-4029-8e0b-333428d171f6"
      },
      "execution_count": 9,
      "outputs": [
        {
          "output_type": "stream",
          "name": "stdout",
          "text": [
            "1/2/3/4/5\n"
          ]
        }
      ]
    },
    {
      "cell_type": "markdown",
      "source": [
        "**`end`** - used to change or get rid of when print jumps to next line"
      ],
      "metadata": {
        "id": "WeK_3UxRDFmH"
      }
    },
    {
      "cell_type": "code",
      "source": [
        "for i in range(10):\n",
        "  print(i, end=\"\")"
      ],
      "metadata": {
        "colab": {
          "base_uri": "https://localhost:8080/"
        },
        "id": "P3hsLJ6cDN9A",
        "outputId": "a6dcc2d7-4c0c-4392-9939-1d914a549eb5"
      },
      "execution_count": 10,
      "outputs": [
        {
          "output_type": "stream",
          "name": "stdout",
          "text": [
            "0123456789"
          ]
        }
      ]
    },
    {
      "cell_type": "code",
      "source": [
        "for i in range(10):\n",
        "  print(i, end=\" \")"
      ],
      "metadata": {
        "colab": {
          "base_uri": "https://localhost:8080/"
        },
        "id": "o5qLBlFZDZvc",
        "outputId": "0b267429-b0a1-4351-bd02-e786b42c1cfe"
      },
      "execution_count": 11,
      "outputs": [
        {
          "output_type": "stream",
          "name": "stdout",
          "text": [
            "0 1 2 3 4 5 6 7 8 9 "
          ]
        }
      ]
    },
    {
      "cell_type": "markdown",
      "source": [
        "## Math formulas\n",
        "\n",
        "Some math operators:\n",
        "\n",
        "|Operator|What it does|Examples|\n",
        "|:---|:---|:---|\n",
        "|$**$|Powers|5$**$2=25|\n",
        "|%|Modulo (remainder)|19%5=4|\n",
        "|//|Integer division|5//3=1|\n",
        "\n"
      ],
      "metadata": {
        "id": "xYuwX_-eD8nx"
      }
    },
    {
      "cell_type": "markdown",
      "source": [
        "Other math operators: absolute value and round functions"
      ],
      "metadata": {
        "id": "NPC47VMkFOVZ"
      }
    },
    {
      "cell_type": "code",
      "source": [
        "print(\"The absolute value of -3 is\", abs(-3))\n",
        "print(\"4/3 rounded to two decimal places is\", round(4/3,2))"
      ],
      "metadata": {
        "colab": {
          "base_uri": "https://localhost:8080/"
        },
        "id": "Cqk_v-yRFYfz",
        "outputId": "039ac06b-f437-4792-88f6-f3cbfc62880d"
      },
      "execution_count": 13,
      "outputs": [
        {
          "output_type": "stream",
          "name": "stdout",
          "text": [
            "The absolute value of -3 is 3\n",
            "4/3 rounded to two decimal places is 1.33\n"
          ]
        }
      ]
    },
    {
      "cell_type": "markdown",
      "source": [
        "To use common math functions, import them from the **`math`** module. For instance,"
      ],
      "metadata": {
        "id": "9SleRVxFE-7J"
      }
    },
    {
      "cell_type": "code",
      "source": [
        "from math import sin, pi\n",
        "print(\"The sine of pi is\", sin(pi))"
      ],
      "metadata": {
        "colab": {
          "base_uri": "https://localhost:8080/"
        },
        "id": "Bv8IgnqQEWdp",
        "outputId": "994c1990-ea8f-47b1-ed69-5318b3d62b5a"
      },
      "execution_count": 14,
      "outputs": [
        {
          "output_type": "stream",
          "name": "stdout",
          "text": [
            "The sine of pi is 1.2246467991473532e-16\n"
          ]
        }
      ]
    },
    {
      "cell_type": "markdown",
      "source": [
        "## Random numbers\n",
        "\n",
        "Use **`randint(a,b)`** to get a random number from a to b (including a and b)"
      ],
      "metadata": {
        "id": "lMVQucekGcfH"
      }
    },
    {
      "cell_type": "code",
      "source": [
        "from random import randint\n",
        "x = randint(1, 5)\n",
        "x"
      ],
      "metadata": {
        "colab": {
          "base_uri": "https://localhost:8080/"
        },
        "id": "s4s8UQFoGhW1",
        "outputId": "9cdc8989-ecf1-4067-8500-6b33c040ce69"
      },
      "execution_count": 21,
      "outputs": [
        {
          "output_type": "execute_result",
          "data": {
            "text/plain": [
              "4"
            ]
          },
          "metadata": {},
          "execution_count": 21
        }
      ]
    },
    {
      "cell_type": "markdown",
      "source": [
        "# If statements"
      ],
      "metadata": {
        "id": "vxTEMvk9IRQa"
      }
    },
    {
      "cell_type": "markdown",
      "source": [
        "## Commnon if statements\n",
        "\n",
        "```Python\n",
        "if x == 3:                           # if x is 3\n",
        "if x != 3:                           # if x is not 3\n",
        "if x >= 1 and x <= 5:                # if x is between 1 and 5\n",
        "if x == 1 or x == 2:                 # if x is 1 or 2\n",
        "if name == \"elvis\":                  # checkin strings\n",
        "if (x == 3 or x == 5) and y == 2:    # use parens in complicated statements\n",
        "```"
      ],
      "metadata": {
        "id": "pfcp9rbuHGuc"
      }
    },
    {
      "cell_type": "markdown",
      "source": [
        "## if/else\n",
        "\n",
        "```Python\n",
        "if guess == num:\n",
        "  print(\"You got it!\")\n",
        "else:\n",
        "  print(\"You missed it.\")\n",
        "```"
      ],
      "metadata": {
        "id": "EgEKuZgIII9r"
      }
    },
    {
      "cell_type": "code",
      "source": [],
      "metadata": {
        "id": "O5_riAbXHTZI"
      },
      "execution_count": null,
      "outputs": []
    }
  ]
}