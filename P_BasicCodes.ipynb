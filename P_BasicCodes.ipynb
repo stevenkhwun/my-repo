{
  "nbformat": 4,
  "nbformat_minor": 0,
  "metadata": {
    "colab": {
      "provenance": [],
      "toc_visible": true,
      "authorship_tag": "ABX9TyPSnAys7890NbQasbMC0dnw",
      "include_colab_link": true
    },
    "kernelspec": {
      "name": "python3",
      "display_name": "Python 3"
    },
    "language_info": {
      "name": "python"
    }
  },
  "cells": [
    {
      "cell_type": "markdown",
      "metadata": {
        "id": "view-in-github",
        "colab_type": "text"
      },
      "source": [
        "<a href=\"https://colab.research.google.com/github/stevenkhwun/my-repo/blob/main/P_BasicCodes.ipynb\" target=\"_parent\"><img src=\"https://colab.research.google.com/assets/colab-badge.svg\" alt=\"Open In Colab\"/></a>"
      ]
    },
    {
      "cell_type": "markdown",
      "source": [
        "# Basics\n",
        "\n",
        "## Quotes"
      ],
      "metadata": {
        "id": "jh3kcG9LBJGb"
      }
    },
    {
      "cell_type": "code",
      "execution_count": null,
      "metadata": {
        "colab": {
          "base_uri": "https://localhost:8080/"
        },
        "id": "q8V14tkLA_cP",
        "outputId": "a3919242-6aa4-44aa-bda4-8c58dd59929a"
      },
      "outputs": [
        {
          "output_type": "stream",
          "name": "stdout",
          "text": [
            "2+2\n",
            "4\n"
          ]
        }
      ],
      "source": [
        "print(\"2+2\")\n",
        "print(2+2)"
      ]
    },
    {
      "cell_type": "markdown",
      "source": [
        "## Getting input"
      ],
      "metadata": {
        "id": "i2cGeJ52BhdZ"
      }
    },
    {
      "cell_type": "code",
      "source": [
        "name = input(\"Enter your name: \")\n",
        "name"
      ],
      "metadata": {
        "colab": {
          "base_uri": "https://localhost:8080/",
          "height": 53
        },
        "id": "UfBhEX8JBl5N",
        "outputId": "8f42fe3d-e453-467a-9678-68709646b37b"
      },
      "execution_count": null,
      "outputs": [
        {
          "name": "stdout",
          "output_type": "stream",
          "text": [
            "Enter your name: Steven\n"
          ]
        },
        {
          "output_type": "execute_result",
          "data": {
            "text/plain": [
              "'Steven'"
            ],
            "application/vnd.google.colaboratory.intrinsic+json": {
              "type": "string"
            }
          },
          "metadata": {},
          "execution_count": 3
        }
      ]
    },
    {
      "cell_type": "code",
      "source": [
        "num = eval(input(\"Enter a number: \"))\n",
        "num"
      ],
      "metadata": {
        "colab": {
          "base_uri": "https://localhost:8080/"
        },
        "id": "AfQX0eC6Byss",
        "outputId": "ccc7a842-4d35-40cf-be7a-dfe32da253d4"
      },
      "execution_count": null,
      "outputs": [
        {
          "name": "stdout",
          "output_type": "stream",
          "text": [
            "Enter a number: 890.88\n"
          ]
        },
        {
          "output_type": "execute_result",
          "data": {
            "text/plain": [
              "890.88"
            ]
          },
          "metadata": {},
          "execution_count": 6
        }
      ]
    },
    {
      "cell_type": "code",
      "source": [
        "type(num)"
      ],
      "metadata": {
        "colab": {
          "base_uri": "https://localhost:8080/"
        },
        "id": "owhWRF33CDS5",
        "outputId": "a10050db-ad89-4d60-e624-c146ec26f146"
      },
      "execution_count": null,
      "outputs": [
        {
          "output_type": "execute_result",
          "data": {
            "text/plain": [
              "float"
            ]
          },
          "metadata": {},
          "execution_count": 7
        }
      ]
    },
    {
      "cell_type": "markdown",
      "source": [
        "## Optional arguments to the print function\n",
        "\n",
        "**`sep`** - use to change or get rid of spaces that print inserts"
      ],
      "metadata": {
        "id": "yCxp6OJoCdE0"
      }
    },
    {
      "cell_type": "code",
      "source": [
        "print(1,2,3,4,5, sep='')\n"
      ],
      "metadata": {
        "colab": {
          "base_uri": "https://localhost:8080/"
        },
        "id": "KspFSSAiCg5X",
        "outputId": "5b02a5d5-468e-45da-9673-88e7145c11ed"
      },
      "execution_count": null,
      "outputs": [
        {
          "output_type": "stream",
          "name": "stdout",
          "text": [
            "12345\n"
          ]
        }
      ]
    },
    {
      "cell_type": "code",
      "source": [
        "print(1,2,3,4,5, sep='/')"
      ],
      "metadata": {
        "colab": {
          "base_uri": "https://localhost:8080/"
        },
        "id": "pnyRigmiC61k",
        "outputId": "26074bcf-5355-4029-8e0b-333428d171f6"
      },
      "execution_count": null,
      "outputs": [
        {
          "output_type": "stream",
          "name": "stdout",
          "text": [
            "1/2/3/4/5\n"
          ]
        }
      ]
    },
    {
      "cell_type": "markdown",
      "source": [
        "**`end`** - used to change or get rid of when print jumps to next line"
      ],
      "metadata": {
        "id": "WeK_3UxRDFmH"
      }
    },
    {
      "cell_type": "code",
      "source": [
        "for i in range(10):\n",
        "  print(i, end=\"\")"
      ],
      "metadata": {
        "colab": {
          "base_uri": "https://localhost:8080/"
        },
        "id": "P3hsLJ6cDN9A",
        "outputId": "a6dcc2d7-4c0c-4392-9939-1d914a549eb5"
      },
      "execution_count": null,
      "outputs": [
        {
          "output_type": "stream",
          "name": "stdout",
          "text": [
            "0123456789"
          ]
        }
      ]
    },
    {
      "cell_type": "code",
      "source": [
        "for i in range(10):\n",
        "  print(i, end=\" \")"
      ],
      "metadata": {
        "colab": {
          "base_uri": "https://localhost:8080/"
        },
        "id": "o5qLBlFZDZvc",
        "outputId": "0b267429-b0a1-4351-bd02-e786b42c1cfe"
      },
      "execution_count": null,
      "outputs": [
        {
          "output_type": "stream",
          "name": "stdout",
          "text": [
            "0 1 2 3 4 5 6 7 8 9 "
          ]
        }
      ]
    },
    {
      "cell_type": "markdown",
      "source": [
        "## Math formulas\n",
        "\n",
        "Some math operators:\n",
        "\n",
        "|Operator|What it does|Examples|\n",
        "|:---|:---|:---|\n",
        "|$**$|Powers|5$**$2=25|\n",
        "|%|Modulo (remainder)|19%5=4|\n",
        "|//|Integer division|5//3=1|\n",
        "\n"
      ],
      "metadata": {
        "id": "xYuwX_-eD8nx"
      }
    },
    {
      "cell_type": "markdown",
      "source": [
        "Other math operators: absolute value and round functions"
      ],
      "metadata": {
        "id": "NPC47VMkFOVZ"
      }
    },
    {
      "cell_type": "code",
      "source": [
        "print(\"The absolute value of -3 is\", abs(-3))\n",
        "print(\"4/3 rounded to two decimal places is\", round(4/3,2))"
      ],
      "metadata": {
        "colab": {
          "base_uri": "https://localhost:8080/"
        },
        "id": "Cqk_v-yRFYfz",
        "outputId": "039ac06b-f437-4792-88f6-f3cbfc62880d"
      },
      "execution_count": null,
      "outputs": [
        {
          "output_type": "stream",
          "name": "stdout",
          "text": [
            "The absolute value of -3 is 3\n",
            "4/3 rounded to two decimal places is 1.33\n"
          ]
        }
      ]
    },
    {
      "cell_type": "markdown",
      "source": [
        "To use common math functions, import them from the **`math`** module. For instance,"
      ],
      "metadata": {
        "id": "9SleRVxFE-7J"
      }
    },
    {
      "cell_type": "code",
      "source": [
        "from math import sin, pi\n",
        "print(\"The sine of pi is\", sin(pi))"
      ],
      "metadata": {
        "colab": {
          "base_uri": "https://localhost:8080/"
        },
        "id": "Bv8IgnqQEWdp",
        "outputId": "994c1990-ea8f-47b1-ed69-5318b3d62b5a"
      },
      "execution_count": null,
      "outputs": [
        {
          "output_type": "stream",
          "name": "stdout",
          "text": [
            "The sine of pi is 1.2246467991473532e-16\n"
          ]
        }
      ]
    },
    {
      "cell_type": "markdown",
      "source": [
        "## Random numbers\n",
        "\n",
        "Use **`randint(a,b)`** to get a random number from a to b (including a and b)"
      ],
      "metadata": {
        "id": "lMVQucekGcfH"
      }
    },
    {
      "cell_type": "code",
      "source": [
        "from random import randint\n",
        "x = randint(1, 5)\n",
        "x"
      ],
      "metadata": {
        "colab": {
          "base_uri": "https://localhost:8080/"
        },
        "id": "s4s8UQFoGhW1",
        "outputId": "9cdc8989-ecf1-4067-8500-6b33c040ce69"
      },
      "execution_count": null,
      "outputs": [
        {
          "output_type": "execute_result",
          "data": {
            "text/plain": [
              "4"
            ]
          },
          "metadata": {},
          "execution_count": 21
        }
      ]
    },
    {
      "cell_type": "markdown",
      "source": [
        "# If statements"
      ],
      "metadata": {
        "id": "vxTEMvk9IRQa"
      }
    },
    {
      "cell_type": "markdown",
      "source": [
        "## Commnon if statements\n",
        "\n",
        "```Python\n",
        "if x == 3:                           # if x is 3\n",
        "if x != 3:                           # if x is not 3\n",
        "if x >= 1 and x <= 5:                # if x is between 1 and 5\n",
        "if x == 1 or x == 2:                 # if x is 1 or 2\n",
        "if name == \"elvis\":                  # checkin strings\n",
        "if (x == 3 or x == 5) and y == 2:    # use parens in complicated statements\n",
        "```"
      ],
      "metadata": {
        "id": "pfcp9rbuHGuc"
      }
    },
    {
      "cell_type": "markdown",
      "source": [
        "## if/else\n",
        "\n",
        "```Python\n",
        "if guess == num:\n",
        "  print(\"You got it!\")\n",
        "else:\n",
        "  print(\"You missed it.\")\n",
        "```"
      ],
      "metadata": {
        "id": "EgEKuZgIII9r"
      }
    },
    {
      "cell_type": "markdown",
      "source": [
        "## if/elif/else\n",
        "\n",
        "It is useful if something can be one of several possibilities.\n",
        "\n",
        "```Python\n",
        "if entry == \"yes\":\n",
        "  print(\"Your total ill is $50.00\")\n",
        "elif entry == \"no\":\n",
        "  print(\"Your total bill is $45.00\")\n",
        "else:\n",
        "  print(\"Invalid entry\")\n",
        "```\n",
        "\n"
      ],
      "metadata": {
        "id": "pM9IwNfrKXVF"
      }
    },
    {
      "cell_type": "markdown",
      "source": [
        "# For Loops"
      ],
      "metadata": {
        "id": "uUWbmm1cLJ6D"
      }
    },
    {
      "cell_type": "markdown",
      "source": [
        "## Basics\n",
        "\n",
        "This will print hello 5 times:"
      ],
      "metadata": {
        "id": "WjCJD8_KLPaz"
      }
    },
    {
      "cell_type": "code",
      "source": [
        "for i in range(5):\n",
        "  print(\"hello\")"
      ],
      "metadata": {
        "colab": {
          "base_uri": "https://localhost:8080/"
        },
        "id": "O5_riAbXHTZI",
        "outputId": "5cf44f11-9d8d-4b6d-a952-f220c5600fc0"
      },
      "execution_count": null,
      "outputs": [
        {
          "output_type": "stream",
          "name": "stdout",
          "text": [
            "hello\n",
            "hello\n",
            "hello\n",
            "hello\n",
            "hello\n"
          ]
        }
      ]
    },
    {
      "cell_type": "markdown",
      "source": [
        "Indentation is used to tell what statements will be repeated. The statement below alternates print A and B 3 times and then prints Bye once."
      ],
      "metadata": {
        "id": "C6uLUaf-Li5L"
      }
    },
    {
      "cell_type": "code",
      "source": [
        "for i in range(3):\n",
        "  print(\"A\")\n",
        "  print(\"B\")\n",
        "print(\"Bye\")"
      ],
      "metadata": {
        "colab": {
          "base_uri": "https://localhost:8080/"
        },
        "id": "2eqtf_JCLtJl",
        "outputId": "4f093ad5-a7c6-4749-eaa4-8401ca7d107b"
      },
      "execution_count": null,
      "outputs": [
        {
          "output_type": "stream",
          "name": "stdout",
          "text": [
            "A\n",
            "B\n",
            "A\n",
            "B\n",
            "A\n",
            "B\n",
            "Bye\n"
          ]
        }
      ]
    },
    {
      "cell_type": "markdown",
      "source": [
        "The `i` variable in a for loop keeps track of where your are in the loop. It starts off at 0 and goes to one less than whatever is in the range."
      ],
      "metadata": {
        "id": "IRQXCD16L-Ig"
      }
    },
    {
      "cell_type": "code",
      "source": [
        "for i in range(5):\n",
        "  print(i)"
      ],
      "metadata": {
        "colab": {
          "base_uri": "https://localhost:8080/"
        },
        "id": "e3hfBmGcMLXo",
        "outputId": "a5e753dd-22a2-4d00-a988-702f0129259d"
      },
      "execution_count": null,
      "outputs": [
        {
          "output_type": "stream",
          "name": "stdout",
          "text": [
            "0\n",
            "1\n",
            "2\n",
            "3\n",
            "4\n"
          ]
        }
      ]
    },
    {
      "cell_type": "markdown",
      "source": [
        "## The range statement\n",
        "\n",
        "Here are some example ranges:"
      ],
      "metadata": {
        "id": "9n59UNkc14bI"
      }
    },
    {
      "cell_type": "code",
      "source": [
        "# range(10)\n",
        "r =[]\n",
        "for i in range(10):\n",
        "  r.append(i)\n",
        "print(r)"
      ],
      "metadata": {
        "id": "NtPas9Lq19qs",
        "outputId": "4c345c02-6750-4f59-993a-12079bed9380",
        "colab": {
          "base_uri": "https://localhost:8080/"
        }
      },
      "execution_count": null,
      "outputs": [
        {
          "output_type": "stream",
          "name": "stdout",
          "text": [
            "[0, 1, 2, 3, 4, 5, 6, 7, 8, 9]\n"
          ]
        }
      ]
    },
    {
      "cell_type": "code",
      "source": [
        "# range(5, 10)\n",
        "r = []\n",
        "for i in range(5, 10):\n",
        "  r.append(i)\n",
        "print(r)"
      ],
      "metadata": {
        "id": "cVTvY5-l2Mb2",
        "outputId": "495dd6d9-1d8c-4538-c374-09f7b771ec31",
        "colab": {
          "base_uri": "https://localhost:8080/"
        }
      },
      "execution_count": null,
      "outputs": [
        {
          "output_type": "stream",
          "name": "stdout",
          "text": [
            "[5, 6, 7, 8, 9]\n"
          ]
        }
      ]
    },
    {
      "cell_type": "code",
      "source": [
        "# range(1, 10, 2)\n",
        "r = []\n",
        "for i in range(1, 10, 2):\n",
        "  r.append(i)\n",
        "print(r)"
      ],
      "metadata": {
        "id": "QkdQxRBu2X93",
        "outputId": "3dc1b6c7-aa90-4751-935c-3bf90457515c",
        "colab": {
          "base_uri": "https://localhost:8080/"
        }
      },
      "execution_count": null,
      "outputs": [
        {
          "output_type": "stream",
          "name": "stdout",
          "text": [
            "[1, 3, 5, 7, 9]\n"
          ]
        }
      ]
    },
    {
      "cell_type": "code",
      "source": [
        "# range(10, 0, -1)\n",
        "r = []\n",
        "for i in range(10, 0, -1):\n",
        "  r.append(i)\n",
        "print(r)"
      ],
      "metadata": {
        "id": "uTGQif-d2lOp",
        "outputId": "f3089bca-0a8f-42e7-b43c-9efea49fb221",
        "colab": {
          "base_uri": "https://localhost:8080/"
        }
      },
      "execution_count": null,
      "outputs": [
        {
          "output_type": "stream",
          "name": "stdout",
          "text": [
            "[10, 9, 8, 7, 6, 5, 4, 3, 2, 1]\n"
          ]
        }
      ]
    },
    {
      "cell_type": "markdown",
      "source": [
        "One tricky thing is that the endpoint of the range is never included in the numbers generated."
      ],
      "metadata": {
        "id": "qpwSqmB22w0s"
      }
    },
    {
      "cell_type": "markdown",
      "source": [
        "# Strings"
      ],
      "metadata": {
        "id": "sc8jUJH9BLZl"
      }
    },
    {
      "cell_type": "markdown",
      "source": [
        "## String basics\n",
        "\n",
        "Suppose `s` = abcde Hi fghij"
      ],
      "metadata": {
        "id": "jVmI8uaWB_BT"
      }
    },
    {
      "cell_type": "code",
      "source": [
        "# Creating s\n",
        "s = \"abcde Hi fghij\"\n",
        "s"
      ],
      "metadata": {
        "id": "_TTQSQ1IBHUi",
        "outputId": "a01c494b-26c5-4ac1-8c95-c5becd232bcb",
        "colab": {
          "base_uri": "https://localhost:8080/",
          "height": 35
        }
      },
      "execution_count": null,
      "outputs": [
        {
          "output_type": "execute_result",
          "data": {
            "text/plain": [
              "'abcde Hi fghij'"
            ],
            "application/vnd.google.colaboratory.intrinsic+json": {
              "type": "string"
            }
          },
          "metadata": {},
          "execution_count": 18
        }
      ]
    },
    {
      "cell_type": "code",
      "source": [
        "# Add !! to the end of s\n",
        "s + \"!!\""
      ],
      "metadata": {
        "id": "0DDBuVerCQKp",
        "outputId": "3c4af4a6-9cb0-4192-dcc4-d8654d13e1b9",
        "colab": {
          "base_uri": "https://localhost:8080/",
          "height": 35
        }
      },
      "execution_count": null,
      "outputs": [
        {
          "output_type": "execute_result",
          "data": {
            "text/plain": [
              "'abcde Hi fghij!!'"
            ],
            "application/vnd.google.colaboratory.intrinsic+json": {
              "type": "string"
            }
          },
          "metadata": {},
          "execution_count": 19
        }
      ]
    },
    {
      "cell_type": "code",
      "source": [
        "# Replicate an entry, like s = \"aaaaa\"\n",
        "\"a\" * 5"
      ],
      "metadata": {
        "id": "vsMAjSD3CYxD",
        "outputId": "9b52af94-9670-4066-87f4-3e918fcea1cc",
        "colab": {
          "base_uri": "https://localhost:8080/",
          "height": 35
        }
      },
      "execution_count": null,
      "outputs": [
        {
          "output_type": "execute_result",
          "data": {
            "text/plain": [
              "'aaaaa'"
            ],
            "application/vnd.google.colaboratory.intrinsic+json": {
              "type": "string"
            }
          },
          "metadata": {},
          "execution_count": 20
        }
      ]
    },
    {
      "cell_type": "code",
      "source": [
        "# Number of spaces in the string\n",
        "s.count(\" \")"
      ],
      "metadata": {
        "id": "-TjLM1XFDBwI",
        "outputId": "fd6d33a8-944d-40c3-a8de-fb59266c2e9e",
        "colab": {
          "base_uri": "https://localhost:8080/"
        }
      },
      "execution_count": null,
      "outputs": [
        {
          "output_type": "execute_result",
          "data": {
            "text/plain": [
              "2"
            ]
          },
          "metadata": {},
          "execution_count": 21
        }
      ]
    },
    {
      "cell_type": "code",
      "source": [
        "# Replaces each 'Hi' with 'Hello'\n",
        "s.replace(\"Hi\", \"Hello\")"
      ],
      "metadata": {
        "id": "k0eXL4xjBp-d",
        "outputId": "5856d6ca-5bfe-4d2a-855e-8945f29b7627",
        "colab": {
          "base_uri": "https://localhost:8080/",
          "height": 35
        }
      },
      "execution_count": null,
      "outputs": [
        {
          "output_type": "execute_result",
          "data": {
            "text/plain": [
              "'abcde Hello fghij'"
            ],
            "application/vnd.google.colaboratory.intrinsic+json": {
              "type": "string"
            }
          },
          "metadata": {},
          "execution_count": 22
        }
      ]
    },
    {
      "cell_type": "code",
      "source": [
        "# Changes s to all caps\n",
        "s.upper()"
      ],
      "metadata": {
        "id": "20FE_1JADdxI",
        "outputId": "fcd35691-1221-4c79-84c8-776e5b42cb57",
        "colab": {
          "base_uri": "https://localhost:8080/",
          "height": 35
        }
      },
      "execution_count": null,
      "outputs": [
        {
          "output_type": "execute_result",
          "data": {
            "text/plain": [
              "'ABCDE HI FGHIJ'"
            ],
            "application/vnd.google.colaboratory.intrinsic+json": {
              "type": "string"
            }
          },
          "metadata": {},
          "execution_count": 23
        }
      ]
    },
    {
      "cell_type": "code",
      "source": [
        "# Location of the first 'a' in s\n",
        "s.index(\"a\")"
      ],
      "metadata": {
        "id": "k6fjy3Y3DnzG",
        "outputId": "3f57792f-f1d6-4e4c-ef7b-ddf15ad62d2b",
        "colab": {
          "base_uri": "https://localhost:8080/"
        }
      },
      "execution_count": null,
      "outputs": [
        {
          "output_type": "execute_result",
          "data": {
            "text/plain": [
              "0"
            ]
          },
          "metadata": {},
          "execution_count": 24
        }
      ]
    },
    {
      "cell_type": "code",
      "source": [
        "# See if s has any a's\n",
        "if \"a\" in s:\n",
        "  print(\"yes\")\n",
        "else:\n",
        "  print(\"no\")"
      ],
      "metadata": {
        "id": "uGsBGHmDDx7f",
        "outputId": "245463e5-45aa-457e-9588-4b7e43285fb3",
        "colab": {
          "base_uri": "https://localhost:8080/"
        }
      },
      "execution_count": null,
      "outputs": [
        {
          "output_type": "stream",
          "name": "stdout",
          "text": [
            "yes\n"
          ]
        }
      ]
    },
    {
      "cell_type": "code",
      "source": [
        "# See if every character of s is a letter\n",
        "if s.isalpha():\n",
        "  print(\"yes\")\n",
        "else:\n",
        "  print(\"no\")"
      ],
      "metadata": {
        "id": "fqMAwinTEMXF",
        "outputId": "0bb16416-fc09-4fe2-dfd4-28464f0359dc",
        "colab": {
          "base_uri": "https://localhost:8080/"
        }
      },
      "execution_count": null,
      "outputs": [
        {
          "output_type": "stream",
          "name": "stdout",
          "text": [
            "no\n"
          ]
        }
      ]
    },
    {
      "cell_type": "markdown",
      "source": [
        "It is no because `s` includes spaces. See the following example where k includes only letters."
      ],
      "metadata": {
        "id": "WOn8iAkFEtES"
      }
    },
    {
      "cell_type": "code",
      "source": [
        "# See if every character of k is a letter\n",
        "k = \"abcdefg\"\n",
        "if k.isalpha():\n",
        "  print(\"yes\")\n",
        "else:\n",
        "  print(\"no\")"
      ],
      "metadata": {
        "id": "zRpgwlTKEhJS",
        "outputId": "d0122597-4b8d-4756-c344-2010e8e5c0a1",
        "colab": {
          "base_uri": "https://localhost:8080/"
        }
      },
      "execution_count": null,
      "outputs": [
        {
          "output_type": "stream",
          "name": "stdout",
          "text": [
            "no\n"
          ]
        }
      ]
    },
    {
      "cell_type": "code",
      "source": [
        "# See if every character of d is a digit\n",
        "d = \"12345\"\n",
        "if d.isdigit():\n",
        "  print(\"yes\")\n",
        "else:\n",
        "  print(\"no\")"
      ],
      "metadata": {
        "id": "b9gf9OAzFBA2",
        "outputId": "4bf7468b-dd2e-4720-dec3-439e24ba8aee",
        "colab": {
          "base_uri": "https://localhost:8080/"
        }
      },
      "execution_count": null,
      "outputs": [
        {
          "output_type": "stream",
          "name": "stdout",
          "text": [
            "no\n"
          ]
        }
      ]
    },
    {
      "cell_type": "code",
      "source": [
        "# How long s is (including spaces)\n",
        "len(s)"
      ],
      "metadata": {
        "id": "1W-3_22xFTHM",
        "outputId": "125e2a45-4837-44db-dbe6-4abf6d3e67ca",
        "colab": {
          "base_uri": "https://localhost:8080/"
        }
      },
      "execution_count": null,
      "outputs": [
        {
          "output_type": "execute_result",
          "data": {
            "text/plain": [
              "14"
            ]
          },
          "metadata": {},
          "execution_count": 35
        }
      ]
    },
    {
      "cell_type": "markdown",
      "source": [
        "## String indices and slices\n",
        "\n",
        "Suppose `s` = \"abcdefghij\"\n",
        "\n",
        "Note: Slices are like range in that they don't include the last index."
      ],
      "metadata": {
        "id": "p7Ct4owbJ7w3"
      }
    },
    {
      "cell_type": "code",
      "source": [
        "# Set up the string s\n",
        "s = \"abcdefghij\""
      ],
      "metadata": {
        "id": "bWLp_SdRLQdA"
      },
      "execution_count": 2,
      "outputs": []
    },
    {
      "cell_type": "code",
      "source": [
        "# First character of s\n",
        "s[0]"
      ],
      "metadata": {
        "id": "U43b7zjFJ5hE",
        "outputId": "73e9789d-b49c-4bba-d907-5628b857e5e8",
        "colab": {
          "base_uri": "https://localhost:8080/",
          "height": 35
        }
      },
      "execution_count": 3,
      "outputs": [
        {
          "output_type": "execute_result",
          "data": {
            "text/plain": [
              "'a'"
            ],
            "application/vnd.google.colaboratory.intrinsic+json": {
              "type": "string"
            }
          },
          "metadata": {},
          "execution_count": 3
        }
      ]
    },
    {
      "cell_type": "code",
      "source": [
        "# Second character of s\n",
        "s[1]"
      ],
      "metadata": {
        "id": "UuxI1x7YLbJY",
        "outputId": "43fe72e5-d14c-4cd5-8625-bd68103e0f28",
        "colab": {
          "base_uri": "https://localhost:8080/",
          "height": 35
        }
      },
      "execution_count": 4,
      "outputs": [
        {
          "output_type": "execute_result",
          "data": {
            "text/plain": [
              "'b'"
            ],
            "application/vnd.google.colaboratory.intrinsic+json": {
              "type": "string"
            }
          },
          "metadata": {},
          "execution_count": 4
        }
      ]
    },
    {
      "cell_type": "code",
      "source": [
        "# Last character of s\n",
        "s[-1]"
      ],
      "metadata": {
        "id": "OSCrCiKNLhh4",
        "outputId": "bbf1cb98-0e59-46ad-ed47-3819e5b89a6a",
        "colab": {
          "base_uri": "https://localhost:8080/",
          "height": 35
        }
      },
      "execution_count": 5,
      "outputs": [
        {
          "output_type": "execute_result",
          "data": {
            "text/plain": [
              "'j'"
            ],
            "application/vnd.google.colaboratory.intrinsic+json": {
              "type": "string"
            }
          },
          "metadata": {},
          "execution_count": 5
        }
      ]
    },
    {
      "cell_type": "code",
      "source": [
        "# Second last character of s\n",
        "s[-2]"
      ],
      "metadata": {
        "id": "khMF3avoLnez",
        "outputId": "cba7ee6d-3502-4892-d1fd-90f5750d21dc",
        "colab": {
          "base_uri": "https://localhost:8080/",
          "height": 35
        }
      },
      "execution_count": 6,
      "outputs": [
        {
          "output_type": "execute_result",
          "data": {
            "text/plain": [
              "'i'"
            ],
            "application/vnd.google.colaboratory.intrinsic+json": {
              "type": "string"
            }
          },
          "metadata": {},
          "execution_count": 6
        }
      ]
    },
    {
      "cell_type": "code",
      "source": [
        "# First three characters\n",
        "s[:3]"
      ],
      "metadata": {
        "id": "yUILiKMELs51",
        "outputId": "4c68654a-37e4-407d-b823-9c020852f755",
        "colab": {
          "base_uri": "https://localhost:8080/",
          "height": 35
        }
      },
      "execution_count": 9,
      "outputs": [
        {
          "output_type": "execute_result",
          "data": {
            "text/plain": [
              "'abc'"
            ],
            "application/vnd.google.colaboratory.intrinsic+json": {
              "type": "string"
            }
          },
          "metadata": {},
          "execution_count": 9
        }
      ]
    },
    {
      "cell_type": "code",
      "source": [
        "# Last three characters\n",
        "s[-3:]"
      ],
      "metadata": {
        "id": "As7JsfDpL1X3",
        "outputId": "6929af40-31f7-460c-cab4-a1404aec000f",
        "colab": {
          "base_uri": "https://localhost:8080/",
          "height": 35
        }
      },
      "execution_count": 8,
      "outputs": [
        {
          "output_type": "execute_result",
          "data": {
            "text/plain": [
              "'hij'"
            ],
            "application/vnd.google.colaboratory.intrinsic+json": {
              "type": "string"
            }
          },
          "metadata": {},
          "execution_count": 8
        }
      ]
    },
    {
      "cell_type": "code",
      "source": [
        "# Characters at indices 2, 3, 4\n",
        "s[2:5]"
      ],
      "metadata": {
        "id": "-4dXpuiGMAA-",
        "outputId": "0de1dc93-c2b0-4889-ca68-470af7085ec2",
        "colab": {
          "base_uri": "https://localhost:8080/",
          "height": 35
        }
      },
      "execution_count": 10,
      "outputs": [
        {
          "output_type": "execute_result",
          "data": {
            "text/plain": [
              "'cde'"
            ],
            "application/vnd.google.colaboratory.intrinsic+json": {
              "type": "string"
            }
          },
          "metadata": {},
          "execution_count": 10
        }
      ]
    },
    {
      "cell_type": "code",
      "source": [
        "# Characters from index 5 to the end\n",
        "s[5:]"
      ],
      "metadata": {
        "id": "hcC-JSIVNHaO",
        "outputId": "92ab02a9-0bee-4247-dd70-e942da367a9d",
        "colab": {
          "base_uri": "https://localhost:8080/",
          "height": 35
        }
      },
      "execution_count": 11,
      "outputs": [
        {
          "output_type": "execute_result",
          "data": {
            "text/plain": [
              "'fghij'"
            ],
            "application/vnd.google.colaboratory.intrinsic+json": {
              "type": "string"
            }
          },
          "metadata": {},
          "execution_count": 11
        }
      ]
    },
    {
      "cell_type": "code",
      "source": [
        "# Entire string\n",
        "s[:]"
      ],
      "metadata": {
        "id": "4iJfBD7wNOH4",
        "outputId": "a068be31-84ee-4044-cfa8-da45482c3d3a",
        "colab": {
          "base_uri": "https://localhost:8080/",
          "height": 35
        }
      },
      "execution_count": 12,
      "outputs": [
        {
          "output_type": "execute_result",
          "data": {
            "text/plain": [
              "'abcdefghij'"
            ],
            "application/vnd.google.colaboratory.intrinsic+json": {
              "type": "string"
            }
          },
          "metadata": {},
          "execution_count": 12
        }
      ]
    },
    {
      "cell_type": "code",
      "source": [
        "# Characters from index 1 to 6 by 2\n",
        "s[1:7:2]"
      ],
      "metadata": {
        "id": "FKUsMhqoNTdh",
        "outputId": "0ee7ab74-f040-403b-90b7-7b18daa53ecc",
        "colab": {
          "base_uri": "https://localhost:8080/",
          "height": 35
        }
      },
      "execution_count": 13,
      "outputs": [
        {
          "output_type": "execute_result",
          "data": {
            "text/plain": [
              "'bdf'"
            ],
            "application/vnd.google.colaboratory.intrinsic+json": {
              "type": "string"
            }
          },
          "metadata": {},
          "execution_count": 13
        }
      ]
    },
    {
      "cell_type": "code",
      "source": [
        "# s in reverse\n",
        "s[::-1]"
      ],
      "metadata": {
        "id": "TIY2PA-nNc-t",
        "outputId": "e6d015b8-3f85-43da-ac13-ca0eab0f48d2",
        "colab": {
          "base_uri": "https://localhost:8080/",
          "height": 35
        }
      },
      "execution_count": 14,
      "outputs": [
        {
          "output_type": "execute_result",
          "data": {
            "text/plain": [
              "'jihgfedcba'"
            ],
            "application/vnd.google.colaboratory.intrinsic+json": {
              "type": "string"
            }
          },
          "metadata": {},
          "execution_count": 14
        }
      ]
    },
    {
      "cell_type": "markdown",
      "source": [
        "## Using slices and the index method together\n",
        "\n",
        "Suppose `s` = \"abc ABCD\""
      ],
      "metadata": {
        "id": "yavfbVPsNqXk"
      }
    },
    {
      "cell_type": "code",
      "source": [
        "# Set up the string\n",
        "s = \"abc ABCD\""
      ],
      "metadata": {
        "id": "X1d29pipOe6-"
      },
      "execution_count": 18,
      "outputs": []
    },
    {
      "cell_type": "code",
      "source": [
        "# The character after the first space\n",
        "s[s.index(\" \")+1]"
      ],
      "metadata": {
        "id": "cwt49yq_OB2I",
        "outputId": "4bd53cc4-763d-4ff5-a5af-38115067535f",
        "colab": {
          "base_uri": "https://localhost:8080/",
          "height": 35
        }
      },
      "execution_count": 21,
      "outputs": [
        {
          "output_type": "execute_result",
          "data": {
            "text/plain": [
              "'A'"
            ],
            "application/vnd.google.colaboratory.intrinsic+json": {
              "type": "string"
            }
          },
          "metadata": {},
          "execution_count": 21
        }
      ]
    },
    {
      "cell_type": "code",
      "source": [
        "# All the characters before the first space\n",
        "s[:s.index(\" \")]"
      ],
      "metadata": {
        "id": "3nmXf2EJOMNm",
        "outputId": "ba422105-e690-4968-bca5-398b38726bc8",
        "colab": {
          "base_uri": "https://localhost:8080/",
          "height": 35
        }
      },
      "execution_count": 23,
      "outputs": [
        {
          "output_type": "execute_result",
          "data": {
            "text/plain": [
              "'abc'"
            ],
            "application/vnd.google.colaboratory.intrinsic+json": {
              "type": "string"
            }
          },
          "metadata": {},
          "execution_count": 23
        }
      ]
    },
    {
      "cell_type": "code",
      "source": [
        "# All the characters after the first space\n",
        "s[s.index(\" \")+1:]"
      ],
      "metadata": {
        "id": "bYLocdX3O9Nn",
        "outputId": "e853d7a4-5675-4097-cad4-bbefb428f84d",
        "colab": {
          "base_uri": "https://localhost:8080/",
          "height": 35
        }
      },
      "execution_count": 24,
      "outputs": [
        {
          "output_type": "execute_result",
          "data": {
            "text/plain": [
              "'ABCD'"
            ],
            "application/vnd.google.colaboratory.intrinsic+json": {
              "type": "string"
            }
          },
          "metadata": {},
          "execution_count": 24
        }
      ]
    },
    {
      "cell_type": "markdown",
      "source": [
        "## Converting numbers to strings\n",
        "\n",
        "Use **`str`** to convert a number to a sting. One common use for this is to access individual digits of a number."
      ],
      "metadata": {
        "id": "TIp29MYrPX6k"
      }
    },
    {
      "cell_type": "code",
      "source": [
        "num = 3141592654\n",
        "s = str(num)\n",
        "print(\"The first digit of num is\", s[0])"
      ],
      "metadata": {
        "id": "bNOPE59yPkY2",
        "outputId": "67e890cd-0d02-49b7-d0cf-848dacb5e95c",
        "colab": {
          "base_uri": "https://localhost:8080/"
        }
      },
      "execution_count": 26,
      "outputs": [
        {
          "output_type": "stream",
          "name": "stdout",
          "text": [
            "The first digit of num is 3\n"
          ]
        }
      ]
    },
    {
      "cell_type": "markdown",
      "source": [
        "Another use for **`str`** is if we need to put a number into a string with some other stuff. This might be useful in a program that needs to create a bunch of files with similar names."
      ],
      "metadata": {
        "id": "kPlXiYFfQA8H"
      }
    },
    {
      "cell_type": "code",
      "source": [
        "x = 3\n",
        "\"filename\" + str(x) + \".txt\""
      ],
      "metadata": {
        "id": "dmmypYZkQPXK",
        "outputId": "fb5d41fb-9aa1-4498-bf14-683a8fd88c28",
        "colab": {
          "base_uri": "https://localhost:8080/",
          "height": 35
        }
      },
      "execution_count": 30,
      "outputs": [
        {
          "output_type": "execute_result",
          "data": {
            "text/plain": [
              "'filename3.txt'"
            ],
            "application/vnd.google.colaboratory.intrinsic+json": {
              "type": "string"
            }
          },
          "metadata": {},
          "execution_count": 30
        }
      ]
    },
    {
      "cell_type": "markdown",
      "source": [
        "## Converting strings to numbers"
      ],
      "metadata": {
        "id": "EHWpc9UvR9KZ"
      }
    },
    {
      "cell_type": "code",
      "source": [
        "s = \"5\"\n",
        "type(s)"
      ],
      "metadata": {
        "id": "_tMDNR_TRPy8",
        "outputId": "1a167b40-ee66-4491-b0e3-b63dbe29eb74",
        "colab": {
          "base_uri": "https://localhost:8080/"
        }
      },
      "execution_count": 40,
      "outputs": [
        {
          "output_type": "execute_result",
          "data": {
            "text/plain": [
              "str"
            ]
          },
          "metadata": {},
          "execution_count": 40
        }
      ]
    },
    {
      "cell_type": "code",
      "source": [
        "# Convert s to an integer\n",
        "num = int(s)\n",
        "print(\"The value of num is\", num, \"and its type is\", type(num))"
      ],
      "metadata": {
        "id": "wEJ97fg5RVE0",
        "outputId": "142fb86b-b2eb-48e7-f8b0-52825cba70df",
        "colab": {
          "base_uri": "https://localhost:8080/"
        }
      },
      "execution_count": 41,
      "outputs": [
        {
          "output_type": "stream",
          "name": "stdout",
          "text": [
            "The value of num is 5 and its type is <class 'int'>\n"
          ]
        }
      ]
    },
    {
      "cell_type": "code",
      "source": [
        "# Convert s to a decimal number\n",
        "num = float(s)\n",
        "print(\"The value of num is\", num, \"and its type is\", type(num))"
      ],
      "metadata": {
        "id": "GTnqBJkJSJ0P",
        "outputId": "83c8326a-8cb2-40c2-be0d-b820eb2c8013",
        "colab": {
          "base_uri": "https://localhost:8080/"
        }
      },
      "execution_count": 42,
      "outputs": [
        {
          "output_type": "stream",
          "name": "stdout",
          "text": [
            "The value of num is 5.0 and its type is <class 'float'>\n"
          ]
        }
      ]
    }
  ]
}